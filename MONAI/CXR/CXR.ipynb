{
 "cells": [
  {
   "cell_type": "markdown",
   "id": "c7d02141",
   "metadata": {},
   "source": [
    "[![Open In Colab](https://colab.research.google.com/assets/colab-badge.svg)](https://colab.research.google.com/github/WarrenTseng/genai_tutorials/blob/main/MONAI/CXR/CXR.ipynb)"
   ]
  },
  {
   "cell_type": "markdown",
   "id": "82e47b92",
   "metadata": {},
   "source": [
    "## Install Requirements"
   ]
  },
  {
   "cell_type": "code",
   "execution_count": null,
   "id": "cdc455af",
   "metadata": {
    "scrolled": true
   },
   "outputs": [],
   "source": [
    "!pip install monai fire \n",
    "!pip install --upgrade --no-cache-dir gdown \n",
    "!pip install transformers\n",
    "!git clone https://github.com/Project-MONAI/GenerativeModels.git\n",
    "%cd GenerativeModels/\n",
    "!python setup.py install"
   ]
  },
  {
   "cell_type": "markdown",
   "id": "fad20a62",
   "metadata": {},
   "source": [
    "## Check Installation"
   ]
  },
  {
   "cell_type": "code",
   "execution_count": null,
   "id": "e709a0eb",
   "metadata": {},
   "outputs": [],
   "source": [
    "import monai\n",
    "import torch\n",
    "import generative\n",
    "import gdown\n",
    "import numpy as np\n",
    "import matplotlib.pyplot as plt\n",
    "import os\n",
    "from tqdm import tqdm\n",
    "\n",
    "monai.__version__, generative.__version__"
   ]
  },
  {
   "cell_type": "markdown",
   "id": "42d8a695",
   "metadata": {},
   "source": [
    "## Download Pre-trained Model"
   ]
  },
  {
   "cell_type": "code",
   "execution_count": null,
   "id": "3a566dde",
   "metadata": {},
   "outputs": [],
   "source": [
    "%cd model-zoo/models/cxr_image_synthesis_latent_diffusion_model/\n",
    "!mkdir models\n",
    "%cd models"
   ]
  },
  {
   "cell_type": "code",
   "execution_count": null,
   "id": "6d6ac664",
   "metadata": {},
   "outputs": [],
   "source": [
    "import gdown\n",
    "url = \"https://drive.google.com/uc?export=download&id=1paDN1m-Q_Oy8d_BanPkRTi3RlNB_Sv_h\"\n",
    "output = \"autoencoder.pth\"\n",
    "gdown.download(url, output, quiet=False)\n",
    "\n",
    "url = \"https://drive.google.com/uc?export=download&id=1CjcmiPu5_QWr-f7wDJsXrCCcVeczneGT\"\n",
    "output = \"diffusion_model.pth\"\n",
    "gdown.download(url, output, quiet=False)\n",
    "!ls"
   ]
  },
  {
   "cell_type": "markdown",
   "id": "391fb9bb",
   "metadata": {},
   "source": [
    "## Synthetic Data Generation"
   ]
  },
  {
   "cell_type": "code",
   "execution_count": null,
   "id": "fb61ed05",
   "metadata": {},
   "outputs": [],
   "source": [
    "%cd ..\n",
    "!mkdir output"
   ]
  },
  {
   "cell_type": "code",
   "execution_count": null,
   "id": "db92e193",
   "metadata": {},
   "outputs": [],
   "source": [
    "!python -m monai.bundle run save_jpg --config_file configs/inference.json \\\n",
    "        --prompt \"Big right-sided pleural effusion\""
   ]
  },
  {
   "cell_type": "markdown",
   "id": "ad420d40",
   "metadata": {},
   "source": [
    "## Preview"
   ]
  },
  {
   "cell_type": "code",
   "execution_count": null,
   "id": "f2ba3e50",
   "metadata": {},
   "outputs": [],
   "source": [
    "fname = [f for f in os.listdir('output') if 'ipynb' not in f][-1]\n",
    "fname"
   ]
  },
  {
   "cell_type": "code",
   "execution_count": null,
   "id": "870cc4ed",
   "metadata": {},
   "outputs": [],
   "source": [
    "filepath = 'output/' + fname\n",
    "img = plt.imread(filepath)\n",
    "\n",
    "plt.imshow(img, cmap='gray')\n",
    "plt.show()"
   ]
  },
  {
   "cell_type": "markdown",
   "id": "e3011d1b",
   "metadata": {},
   "source": [
    "## Generate Training Data"
   ]
  },
  {
   "cell_type": "markdown",
   "id": "191f7f26",
   "metadata": {},
   "source": [
    "- Big right-sided pleural effusion"
   ]
  },
  {
   "cell_type": "code",
   "execution_count": null,
   "id": "5672d3f5",
   "metadata": {},
   "outputs": [],
   "source": [
    "url = 'https://drive.google.com/file/d/14Z0Vmv-8_mGSZXOrtw0Cqxnks0jC_I-1/view?usp=sharing'\n",
    "output = 'inference_n.json'\n",
    "gdown.download(url, output, quiet=False, fuzzy=True)\n",
    "!mv inference_n.json configs/"
   ]
  },
  {
   "cell_type": "code",
   "execution_count": null,
   "id": "04e27d75",
   "metadata": {},
   "outputs": [],
   "source": [
    "!rm -r output/*\n",
    "!mkdir dataset"
   ]
  },
  {
   "cell_type": "code",
   "execution_count": null,
   "id": "cb61ef21",
   "metadata": {
    "scrolled": true
   },
   "outputs": [],
   "source": [
    "!python -m monai.bundle run save_jpg --config_file configs/inference_n.json \\\n",
    "        --prompt \"Big right-sided pleural effusion\" \\\n",
    "        --n_imgs 50"
   ]
  },
  {
   "cell_type": "code",
   "execution_count": null,
   "id": "b85bf98e",
   "metadata": {},
   "outputs": [],
   "source": [
    "!mkdir dataset/1\n",
    "!mv output/* dataset/1/"
   ]
  },
  {
   "cell_type": "markdown",
   "id": "b00a5f4c",
   "metadata": {},
   "source": [
    "- Small right-sided pleural effusion"
   ]
  },
  {
   "cell_type": "code",
   "execution_count": null,
   "id": "f0aa880a",
   "metadata": {
    "scrolled": true
   },
   "outputs": [],
   "source": [
    "!python -m monai.bundle run save_jpg --config_file configs/inference_n.json \\\n",
    "        --prompt \"Small right-sided pleural effusion\" \\\n",
    "        --n_imgs 50"
   ]
  },
  {
   "cell_type": "code",
   "execution_count": null,
   "id": "538845e0",
   "metadata": {},
   "outputs": [],
   "source": [
    "!mkdir dataset/2\n",
    "!mv output/* dataset/2/"
   ]
  },
  {
   "cell_type": "markdown",
   "id": "f7ef104d",
   "metadata": {},
   "source": [
    "## Training"
   ]
  },
  {
   "cell_type": "code",
   "execution_count": null,
   "id": "5a613455",
   "metadata": {},
   "outputs": [],
   "source": [
    "%cd GenerativeModels/model-zoo/models/cxr_image_synthesis_latent_diffusion_model/\n",
    "import gdown\n",
    "\n",
    "url = 'https://drive.google.com/file/d/1_yJkKyzYwpiQUytoKhUjmtnJ3jxKdejO/view?usp=drive_link'\n",
    "output = 'cxr_train.py'\n",
    "gdown.download(url, output, quiet=False, fuzzy=True)"
   ]
  },
  {
   "cell_type": "code",
   "execution_count": null,
   "id": "c96c24c9",
   "metadata": {},
   "outputs": [],
   "source": [
    "from cxr_train import CXR_demo\n",
    "\n",
    "max_epoch = 50\n",
    "class1_path = 'dataset/1/'\n",
    "class2_path = 'dataset/2/'\n",
    "cxr_demo = CXR_demo()"
   ]
  },
  {
   "cell_type": "code",
   "execution_count": null,
   "id": "6b26ce64",
   "metadata": {
    "scrolled": true
   },
   "outputs": [],
   "source": [
    "cxr_demo.train(class1_path, class2_path, max_epoch)"
   ]
  },
  {
   "cell_type": "code",
   "execution_count": null,
   "id": "b683a526",
   "metadata": {},
   "outputs": [],
   "source": [
    "cxr_demo.vis_result('models/best.pth')"
   ]
  },
  {
   "cell_type": "code",
   "execution_count": null,
   "id": "7dad25b9",
   "metadata": {},
   "outputs": [],
   "source": []
  }
 ],
 "metadata": {
  "kernelspec": {
   "display_name": "Python 3 (ipykernel)",
   "language": "python",
   "name": "python3"
  },
  "language_info": {
   "codemirror_mode": {
    "name": "ipython",
    "version": 3
   },
   "file_extension": ".py",
   "mimetype": "text/x-python",
   "name": "python",
   "nbconvert_exporter": "python",
   "pygments_lexer": "ipython3",
   "version": "3.10.12"
  }
 },
 "nbformat": 4,
 "nbformat_minor": 5
}
